{
 "cells": [
  {
   "cell_type": "code",
   "execution_count": 1,
   "id": "fea0afac-4f96-4184-b290-f1e94cc81476",
   "metadata": {},
   "outputs": [],
   "source": [
    "import openai\n",
    "from openai import OpenAI\n",
    "import pandas as pd\n",
    "import json"
   ]
  },
  {
   "cell_type": "code",
   "execution_count": 2,
   "id": "8b075cbb-336b-4ee4-a578-891bcac689a5",
   "metadata": {},
   "outputs": [],
   "source": [
    "key='API_KEY'\n",
    "openai.api_key=key\n",
    "client = OpenAI(api_key=key)"
   ]
  },
  {
   "cell_type": "code",
   "execution_count": 3,
   "id": "4c4b4f16-6ec1-4df0-94d9-8fbfa33b9b0d",
   "metadata": {},
   "outputs": [
    {
     "data": {
      "text/plain": [
       "SyncPage[Model](data=[Model(id='dall-e-3', created=1698785189, object='model', owned_by='system'), Model(id='gpt-4-1106-preview', created=1698957206, object='model', owned_by='system'), Model(id='whisper-1', created=1677532384, object='model', owned_by='openai-internal'), Model(id='gpt-4o-2024-05-13', created=1715368132, object='model', owned_by='system'), Model(id='babbage-002', created=1692634615, object='model', owned_by='system'), Model(id='dall-e-2', created=1698798177, object='model', owned_by='system'), Model(id='gpt-3.5-turbo-16k', created=1683758102, object='model', owned_by='openai-internal'), Model(id='tts-1-hd-1106', created=1699053533, object='model', owned_by='system'), Model(id='tts-1-hd', created=1699046015, object='model', owned_by='system'), Model(id='gpt-3.5-turbo-instruct-0914', created=1694122472, object='model', owned_by='system'), Model(id='gpt-3.5-turbo-instruct', created=1692901427, object='model', owned_by='system'), Model(id='text-embedding-3-small', created=1705948997, object='model', owned_by='system'), Model(id='gpt-4-turbo-2024-04-09', created=1712601677, object='model', owned_by='system'), Model(id='tts-1', created=1681940951, object='model', owned_by='openai-internal'), Model(id='gpt-4-turbo', created=1712361441, object='model', owned_by='system'), Model(id='text-embedding-3-large', created=1705953180, object='model', owned_by='system'), Model(id='gpt-3.5-turbo-1106', created=1698959748, object='model', owned_by='system'), Model(id='gpt-4-0125-preview', created=1706037612, object='model', owned_by='system'), Model(id='gpt-3.5-turbo-0125', created=1706048358, object='model', owned_by='system'), Model(id='gpt-3.5-turbo', created=1677610602, object='model', owned_by='openai'), Model(id='gpt-3.5-turbo-0301', created=1677649963, object='model', owned_by='openai'), Model(id='gpt-4-turbo-preview', created=1706037777, object='model', owned_by='system'), Model(id='tts-1-1106', created=1699053241, object='model', owned_by='system'), Model(id='gpt-3.5-turbo-16k-0613', created=1685474247, object='model', owned_by='openai'), Model(id='gpt-3.5-turbo-0613', created=1686587434, object='model', owned_by='openai'), Model(id='gpt-4', created=1687882411, object='model', owned_by='openai'), Model(id='text-embedding-ada-002', created=1671217299, object='model', owned_by='openai-internal'), Model(id='gpt-4-1106-vision-preview', created=1711473033, object='model', owned_by='system'), Model(id='davinci-002', created=1692634301, object='model', owned_by='system'), Model(id='gpt-4-0613', created=1686588896, object='model', owned_by='openai'), Model(id='gpt-4-vision-preview', created=1698894917, object='model', owned_by='system'), Model(id='gpt-4o', created=1715367049, object='model', owned_by='system')], object='list')"
      ]
     },
     "execution_count": 3,
     "metadata": {},
     "output_type": "execute_result"
    }
   ],
   "source": [
    "openai.models.list()"
   ]
  },
  {
   "cell_type": "code",
   "execution_count": 4,
   "id": "e02b019c-ac35-4507-803d-fdd41266c6e0",
   "metadata": {},
   "outputs": [],
   "source": [
    "df=pd.read_csv('Food Data.txt',delimiter='\\t', header=None)"
   ]
  },
  {
   "cell_type": "code",
   "execution_count": 5,
   "id": "b0852e21-6874-411a-bd9f-dbc375a3db75",
   "metadata": {},
   "outputs": [
    {
     "name": "stdout",
     "output_type": "stream",
     "text": [
      "                                                    0\n",
      "0   Hi, I'm Ravi. I love Pizza and Burger of LaPin...\n",
      "1   Hey there, it's Sameer from Delhi. Butter Chic...\n",
      "2   Namaste! I'm Kiran, a big fan of the Chole Bha...\n",
      "3   What's up? This is Maya from Bengaluru. Can't ...\n",
      "4   Hi everyone, it's Akash from Chennai. Huge fan...\n",
      "5   Hey! I'm Neha from Mumbai. Love the Aloo Gobi ...\n",
      "6   Hello! This is Rohan from Hyderabad. Biryani c...\n",
      "7   What's up everyone? It's Aisha from Pune. Can'...\n",
      "8   Hi there, I'm Dev from Chennai. South Indian f...\n",
      "9   Namaste! This is Mira from Bengaluru. Nothing ...\n",
      "10  Hey everyone, it's Rahul from Delhi. Weekends ...\n",
      "11  What's up? I'm Nikita from Kolkata. Craving so...\n",
      "12  Hi there, I'm Aditya from Mumbai. Love experim...\n",
      "13  Hello! This is Priyanka from Delhi. Can't resi...\n",
      "14  Hey everyone, it's Arjun from Chandigarh. The ...\n",
      "15  What's up? I'm Shreya from Pune. Love a good f...\n",
      "16  Hello! This is Kavita from Ahmedabad. Can't re...\n",
      "17  Hey everyone, it's Sumit from Bengaluru. Weeke...\n",
      "18  What's up? I'm Anjali from Mumbai. Can't resis...\n",
      "19  Hi there, I'm Vikas from Jaipur. Vegan options...\n",
      "20  Hello! This is Pooja from Kolkata. The chaat a...\n",
      "21  Hey everyone, it's Nikhil from Delhi. Can't re...\n",
      "22  What's up? I'm Sonia from Hyderabad. Craving s...\n",
      "23  Hi there, I'm Manish from Pune. Dinner with fr...\n",
      "24  Hey! I'm Shivani from Mumbai. Fine dining is m...\n",
      "25  What's up? I'm Abhishek from Delhi. Love a goo...\n",
      "26  Hi there, I'm Riya from Bengaluru. Exploring h...\n",
      "27  Hello! This is Yash from Hyderabad. Can't resi...\n",
      "28  Hey everyone, it's Priya from Chennai. Love a ...\n"
     ]
    }
   ],
   "source": [
    "print(df)"
   ]
  },
  {
   "cell_type": "code",
   "execution_count": 6,
   "id": "ecb5aca1-90d5-4e59-a970-f1787f890537",
   "metadata": {},
   "outputs": [],
   "source": [
    "data_array=df.values"
   ]
  },
  {
   "cell_type": "code",
   "execution_count": 7,
   "id": "21d2c60f-d553-46fb-bd92-aa79a8ee0f39",
   "metadata": {},
   "outputs": [],
   "source": [
    "def extract_user_info(message):\n",
    "    try:\n",
    "        response = client.chat.completions.create(\n",
    "            model=\"gpt-3.5-turbo\",\n",
    "            messages=[\n",
    "                {\"role\": \"user\", \"content\": message}\n",
    "            ],\n",
    "            functions=[\n",
    "                {\n",
    "                    \"name\": \"user_info\",\n",
    "                    \"description\": \"Get the user information from the text\",\n",
    "                    \"parameters\": {\n",
    "                        \"type\": \"object\",\n",
    "                        \"properties\": {\n",
    "                            \"name\": {\n",
    "                                \"type\": \"string\",\n",
    "                                \"description\": \"Name of the user\"\n",
    "                            },\n",
    "                            \"fav_food\": {\n",
    "                                \"type\": \"string\",\n",
    "                                \"description\": \"Favorite food of the user\"\n",
    "                            },\n",
    "                            \"fav_restaurant\": {\n",
    "                                \"type\": \"string\",\n",
    "                                \"description\": \"Restaurant name where users prefer to eat\"\n",
    "                            },\n",
    "                            \"total_amt\": {\n",
    "                                \"type\": \"string\",\n",
    "                                \"description\": \"Amount spent by the user monthly\"\n",
    "                            },\n",
    "                            \"city\": {\n",
    "                                \"type\": \"string\",\n",
    "                                \"description\": \"Location of user\"\n",
    "                            }\n",
    "                        }\n",
    "                    }\n",
    "                }\n",
    "            ]\n",
    "        )\n",
    "        return response\n",
    "    except openai.error.OpenAIError as e:\n",
    "        print(f\"An error occurred: {e}\")\n",
    "        return None"
   ]
  },
  {
   "cell_type": "code",
   "execution_count": 13,
   "id": "29a5dd83-0d9e-4e85-9938-0a71c470ec3c",
   "metadata": {},
   "outputs": [],
   "source": [
    "def generate_suggestions(user_info):\n",
    "    defaults = {\n",
    "        'name': 'User',\n",
    "        'fav_food': 'food',\n",
    "        'fav_restaurant': 'restaurant',\n",
    "        'city': 'city',\n",
    "        'total_amt': 'some amount'\n",
    "    }\n",
    "    for key, value in defaults.items():\n",
    "        user_info.setdefault(key, value)\n",
    "    suggestion_prompt = (\n",
    "        f\"Suggest a restaurant name in {user_info['city']} that serves {user_info['fav_food']}. \"\n",
    "        \"Please respond in the following JSON format:\\n\"\n",
    "        \"{\\n\"\n",
    "        '  \"restaurant_name\": \"Restaurant Name\"\\n'\n",
    "        \"}\"\n",
    "    )\n",
    "\n",
    "    suggestion_response = client.chat.completions.create(\n",
    "        model=\"gpt-3.5-turbo\",\n",
    "        messages=[{\"role\": \"system\", \"content\": \"You are a helpful assistant.\"},\n",
    "                  {\"role\": \"user\", \"content\": suggestion_prompt}]\n",
    "    )\n",
    "    suggestions_text = suggestion_response.choices[0].message.content\n",
    "    try:\n",
    "        restaurant_info = json.loads(suggestions_text)\n",
    "        restaurant_name = restaurant_info[\"restaurant_name\"]\n",
    "    except (json.JSONDecodeError, KeyError):\n",
    "        restaurant_name = \"None\"\n",
    "    print(restaurant_name)\n",
    "    return restaurant_name"
   ]
  },
  {
   "cell_type": "code",
   "execution_count": 14,
   "id": "7c5de71c-184a-4435-9563-fce3c49dd5e1",
   "metadata": {},
   "outputs": [],
   "source": [
    "final_output = []"
   ]
  },
  {
   "cell_type": "code",
   "execution_count": 15,
   "id": "f8f93b16-92ce-4cfe-a025-5412d32c553f",
   "metadata": {},
   "outputs": [
    {
     "name": "stdout",
     "output_type": "stream",
     "text": [
      "{\"name\":\"Ravi\",\"fav_food\":\"Pizza and Burger\",\"fav_restaurant\":\"LaPinoz\",\"total_amt\":\"Rs. 9000\",\"city\":\"Jaipur\"}\n",
      "PizzaBurger Junction\n",
      "{\"name\":\"Sameer\",\"fav_food\":\"Butter Chicken and Naan\",\"fav_restaurant\":\"Zaika\",\"total_amt\":\"Rs. 5000\",\"city\":\"Delhi\"}\n",
      "Butter Naan Bistro\n",
      "{\"name\":\"Kiran\",\"fav_food\":\"Chole Bhature\",\"fav_restaurant\":\"Chandni Chowk\",\"total_amt\":\"Rs. 2000\",\"city\":\"Delhi\"}\n",
      "Chole Bhature Junction\n",
      "{\"name\":\"Maya\",\"fav_food\":\"Rajma Chawal\",\"fav_restaurant\":\"Biryani Paradise\",\"total_amt\":\"Rs. 3000\",\"city\":\"Bengaluru\"}\n",
      "Rajma Republic\n",
      "{\"name\":\"Akash\",\"fav_food\":\"Thali meals\",\"fav_restaurant\":\"Saravana Bhavan\",\"total_amt\":\"Rs. 4000\",\"city\":\"Chennai\"}\n",
      "Thali Tharavadu\n",
      "{\"name\":\"Neha\",\"fav_food\":\"Aloo Gobi and Roti\",\"fav_restaurant\":\"Ghar كي (Ki) Rasoi\",\"total_amt\":\"Rs. 6000\",\"city\":\"Mumbai\"}\n",
      "Aloo Gobi Junction\n",
      "{\"name\":\"Rohan\",\"fav_food\":\"Biryani\",\"fav_restaurant\":\"Paradise Biryani\",\"total_amt\":\"Rs. 4500\",\"city\":\"Hyderabad\"}\n",
      "Biryani Junction\n",
      "{\"name\":\"Aisha\",\"fav_food\":\"Pav Bhaji\",\"fav_restaurant\":\"Aadyaa\",\"total_amt\":\"Rs. 3500\",\"city\":\"Pune\"}\n",
      "None\n",
      "{\"name\":\"Dev\",\"fav_food\":\"South Indian food\",\"fav_restaurant\":\"Sankalp\",\"total_amt\":\"Rs. 2000\",\"city\":\"Chennai\"}\n",
      "Chettinad Spice Hub\n",
      "{\"name\":\"Mira\",\"fav_food\":\"Masala Dosa\",\"fav_restaurant\":\"Iyengar Bakery\",\"total_amt\":\"Rs. 2500\",\"city\":\"Bengaluru\"}\n",
      "Dosa Hut\n",
      "{\"name\":\"Rahul\",\"fav_food\":\"Mutton Rogan Josh\",\"fav_restaurant\":\"Karim's\",\"total_amt\":\"Rs. 5000\",\"city\":\"Delhi\"}\n",
      "None\n",
      "{\"name\":\"Nikita\",\"fav_food\":\"Momos and Thukpa\",\"fav_restaurant\":\"Doma Cafe\",\"total_amt\":\"Rs. 3000\",\"city\":\"Kolkata\"}\n",
      "Himalayan Delights\n",
      "{\"name\":\"Aditya\",\"fav_food\":\"Chettinad Chicken\",\"fav_restaurant\":\"Chettinad Vasanta Bhavan\",\"total_amt\":\"Rs. 4000\",\"city\":\"Mumbai\"}\n",
      "Chettinad Spice House\n",
      "{\"name\":\"Priyanka\",\"fav_food\":\"Dahi Vada\",\"fav_restaurant\":\"local stall\",\"total_amt\":\"Rs. 2500\",\"city\":\"Delhi\"}\n",
      "Dahi Vada Delight\n",
      "{\"name\":\"Arjun\",\"fav_food\":\"Lassi\",\"fav_restaurant\":\"Giani's\",\"total_amt\":\"Rs. 3500\",\"city\":\"Chandigarh\"}\n",
      "Lassi Delight\n",
      "{\"name\":\"Shreya\",\"fav_food\":\"fusion dish\",\"fav_restaurant\":\"The Pizza Bakery\",\"total_amt\":\"Rs. 4000\",\"city\":\"Pune\"}\n",
      "Flavors United\n",
      "{\"name\":\"Kavita\",\"fav_food\":\"Gujarati Thali\",\"fav_restaurant\":\"Thakkar Bhojanalay\",\"total_amt\":\"Rs. 3000\",\"city\":\"Ahmedabad\"}\n",
      "Gujarati Delight Thali House\n",
      "{\"name\":\"Sumit\",\"fav_restaurant\":\"Starbucks\",\"total_amt\":\"Rs. 4500\",\"city\":\"Bengaluru\"}\n",
      "Culinary Haven\n",
      "{\"name\":\"Anjali\",\"fav_food\":\"dosa with aloo palak\",\"fav_restaurant\":\"Mysore Cafe\",\"total_amt\":\"Rs. 2800\",\"city\":\"Mumbai\"}\n",
      "Dosa Delights\n",
      "{\"name\":\"Vikas\",\"fav_food\":\"Rajma Masala with brown rice\",\"fav_restaurant\":\"Nature's Basket\",\"total_amt\":\"Rs. 3000\",\"city\":\"Jaipur\"}\n",
      "Spice Delight\n",
      "{\"name\":\"Pooja\",\"fav_food\":\"Chaat at Bengali Sweets\",\"fav_restaurant\":\"Bengali Sweets\",\"total_amt\":\"Rs. 2500\",\"city\":\"Kolkata\"}\n",
      "Chaat O Bengali Mishti\n",
      "{\"name\":\"Nikhil\",\"fav_food\":\"Dal Makhani and Missi Roti\",\"fav_restaurant\":\"Amrik Sukhdev Dhaba\",\"total_amt\":\"Rs. 5000\",\"city\":\"Delhi\"}\n",
      "Daawat-e-Punjab\n",
      "{\"name\":\"Sonia\",\"fav_food\":\"Elish Machher Patudi\",\"fav_restaurant\":\"Oh! Calcutta\",\"total_amt\":\"Rs. 4000\",\"city\":\"Hyderabad\"}\n",
      "Nizam's Peshawari\n",
      "{\"name\":\"Manish\",\"city\":\"Pune\",\"fav_restaurant\":\"Jugaadu\",\"total_amt\":\"Rs. 500-700\"}\n",
      "Pune Spice Delight\n",
      "{\"name\":\"Shivani\",\"fav_food\":\"Lamb Rogan Josh\",\"fav_restaurant\":\"Indian Accent\",\"total_amt\":\"Rs. 8000\",\"city\":\"Mumbai\"}\n",
      "Spice Delight\n",
      "{\"name\":\"Abhishek\",\"fav_food\":\"European breakfast\",\"fav_restaurant\":\"Olive Bar & Kitchen\",\"total_amt\":\"Rs. 10,000\",\"city\":\"Delhi\"}\n",
      "Brunchin' in Delhi\n",
      "{\"name\":\"Riya\",\"fav_food\":\"Quinoa Salad with grilled chicken\",\"fav_restaurant\":\"The Skinny Bowl\",\"total_amt\":\"Rs. 7000\",\"city\":\"Bengaluru\"}\n",
      "Quinoa Bliss\n",
      "{\"name\":\"Yash\",\"fav_food\":\"Seafood\",\"fav_restaurant\":\"Taj Krishna\",\"total_amt\":\"Rs. 12000\",\"city\":\"Hyderabad\"}\n",
      "Oceanic Feast\n",
      "{\"name\":\"Priya\",\"fav_food\":\"Italian\",\"fav_restaurant\":\"Serafina\",\"total_amt\":\"Rs. 9000\",\"city\":\"Chennai\"}\n",
      "Ciao Bella\n"
     ]
    }
   ],
   "source": [
    "for message in data_array[:, 0]:\n",
    "    user_info_response = extract_user_info(message)\n",
    "    \n",
    "    if user_info_response:\n",
    "        user_info_str = user_info_response.choices[0].message.function_call.arguments\n",
    "        print(user_info_str)\n",
    "        user_info = eval(user_info_str)\n",
    "        suggestions = generate_suggestions(user_info)\n",
    "        restaurants = suggestions.strip().split('\\n')\n",
    "        first_suggestion = restaurants[0]\n",
    "        final_output.append({\n",
    "            'user': user_info,\n",
    "            'suggestions': suggestions\n",
    "        })"
   ]
  },
  {
   "cell_type": "code",
   "execution_count": 17,
   "id": "87d7b710-137d-48c2-9d35-92f9ece3df4c",
   "metadata": {},
   "outputs": [
    {
     "name": "stdout",
     "output_type": "stream",
     "text": [
      "[{'user': {'name': 'Ravi', 'fav_food': 'Pizza and Burger', 'fav_restaurant': 'LaPinoz', 'total_amt': 'Rs. 9000', 'city': 'Jaipur'}, 'suggestions': 'PizzaBurger Junction'}, {'user': {'name': 'Sameer', 'fav_food': 'Butter Chicken and Naan', 'fav_restaurant': 'Zaika', 'total_amt': 'Rs. 5000', 'city': 'Delhi'}, 'suggestions': 'Butter Naan Bistro'}, {'user': {'name': 'Kiran', 'fav_food': 'Chole Bhature', 'fav_restaurant': 'Chandni Chowk', 'total_amt': 'Rs. 2000', 'city': 'Delhi'}, 'suggestions': 'Chole Bhature Junction'}, {'user': {'name': 'Maya', 'fav_food': 'Rajma Chawal', 'fav_restaurant': 'Biryani Paradise', 'total_amt': 'Rs. 3000', 'city': 'Bengaluru'}, 'suggestions': 'Rajma Republic'}, {'user': {'name': 'Akash', 'fav_food': 'Thali meals', 'fav_restaurant': 'Saravana Bhavan', 'total_amt': 'Rs. 4000', 'city': 'Chennai'}, 'suggestions': 'Thali Tharavadu'}, {'user': {'name': 'Neha', 'fav_food': 'Aloo Gobi and Roti', 'fav_restaurant': 'Ghar كي (Ki) Rasoi', 'total_amt': 'Rs. 6000', 'city': 'Mumbai'}, 'suggestions': 'Aloo Gobi Junction'}, {'user': {'name': 'Rohan', 'fav_food': 'Biryani', 'fav_restaurant': 'Paradise Biryani', 'total_amt': 'Rs. 4500', 'city': 'Hyderabad'}, 'suggestions': 'Biryani Junction'}, {'user': {'name': 'Aisha', 'fav_food': 'Pav Bhaji', 'fav_restaurant': 'Aadyaa', 'total_amt': 'Rs. 3500', 'city': 'Pune'}, 'suggestions': 'None'}, {'user': {'name': 'Dev', 'fav_food': 'South Indian food', 'fav_restaurant': 'Sankalp', 'total_amt': 'Rs. 2000', 'city': 'Chennai'}, 'suggestions': 'Chettinad Spice Hub'}, {'user': {'name': 'Mira', 'fav_food': 'Masala Dosa', 'fav_restaurant': 'Iyengar Bakery', 'total_amt': 'Rs. 2500', 'city': 'Bengaluru'}, 'suggestions': 'Dosa Hut'}, {'user': {'name': 'Rahul', 'fav_food': 'Mutton Rogan Josh', 'fav_restaurant': \"Karim's\", 'total_amt': 'Rs. 5000', 'city': 'Delhi'}, 'suggestions': 'None'}, {'user': {'name': 'Nikita', 'fav_food': 'Momos and Thukpa', 'fav_restaurant': 'Doma Cafe', 'total_amt': 'Rs. 3000', 'city': 'Kolkata'}, 'suggestions': 'Himalayan Delights'}, {'user': {'name': 'Aditya', 'fav_food': 'Chettinad Chicken', 'fav_restaurant': 'Chettinad Vasanta Bhavan', 'total_amt': 'Rs. 4000', 'city': 'Mumbai'}, 'suggestions': 'Chettinad Spice House'}, {'user': {'name': 'Priyanka', 'fav_food': 'Dahi Vada', 'fav_restaurant': 'local stall', 'total_amt': 'Rs. 2500', 'city': 'Delhi'}, 'suggestions': 'Dahi Vada Delight'}, {'user': {'name': 'Arjun', 'fav_food': 'Lassi', 'fav_restaurant': \"Giani's\", 'total_amt': 'Rs. 3500', 'city': 'Chandigarh'}, 'suggestions': 'Lassi Delight'}, {'user': {'name': 'Shreya', 'fav_food': 'fusion dish', 'fav_restaurant': 'The Pizza Bakery', 'total_amt': 'Rs. 4000', 'city': 'Pune'}, 'suggestions': 'Flavors United'}, {'user': {'name': 'Kavita', 'fav_food': 'Gujarati Thali', 'fav_restaurant': 'Thakkar Bhojanalay', 'total_amt': 'Rs. 3000', 'city': 'Ahmedabad'}, 'suggestions': 'Gujarati Delight Thali House'}, {'user': {'name': 'Sumit', 'fav_restaurant': 'Starbucks', 'total_amt': 'Rs. 4500', 'city': 'Bengaluru', 'fav_food': 'food'}, 'suggestions': 'Culinary Haven'}, {'user': {'name': 'Anjali', 'fav_food': 'dosa with aloo palak', 'fav_restaurant': 'Mysore Cafe', 'total_amt': 'Rs. 2800', 'city': 'Mumbai'}, 'suggestions': 'Dosa Delights'}, {'user': {'name': 'Vikas', 'fav_food': 'Rajma Masala with brown rice', 'fav_restaurant': \"Nature's Basket\", 'total_amt': 'Rs. 3000', 'city': 'Jaipur'}, 'suggestions': 'Spice Delight'}, {'user': {'name': 'Pooja', 'fav_food': 'Chaat at Bengali Sweets', 'fav_restaurant': 'Bengali Sweets', 'total_amt': 'Rs. 2500', 'city': 'Kolkata'}, 'suggestions': 'Chaat O Bengali Mishti'}, {'user': {'name': 'Nikhil', 'fav_food': 'Dal Makhani and Missi Roti', 'fav_restaurant': 'Amrik Sukhdev Dhaba', 'total_amt': 'Rs. 5000', 'city': 'Delhi'}, 'suggestions': 'Daawat-e-Punjab'}, {'user': {'name': 'Sonia', 'fav_food': 'Elish Machher Patudi', 'fav_restaurant': 'Oh! Calcutta', 'total_amt': 'Rs. 4000', 'city': 'Hyderabad'}, 'suggestions': \"Nizam's Peshawari\"}, {'user': {'name': 'Manish', 'city': 'Pune', 'fav_restaurant': 'Jugaadu', 'total_amt': 'Rs. 500-700', 'fav_food': 'food'}, 'suggestions': 'Pune Spice Delight'}, {'user': {'name': 'Shivani', 'fav_food': 'Lamb Rogan Josh', 'fav_restaurant': 'Indian Accent', 'total_amt': 'Rs. 8000', 'city': 'Mumbai'}, 'suggestions': 'Spice Delight'}, {'user': {'name': 'Abhishek', 'fav_food': 'European breakfast', 'fav_restaurant': 'Olive Bar & Kitchen', 'total_amt': 'Rs. 10,000', 'city': 'Delhi'}, 'suggestions': \"Brunchin' in Delhi\"}, {'user': {'name': 'Riya', 'fav_food': 'Quinoa Salad with grilled chicken', 'fav_restaurant': 'The Skinny Bowl', 'total_amt': 'Rs. 7000', 'city': 'Bengaluru'}, 'suggestions': 'Quinoa Bliss'}, {'user': {'name': 'Yash', 'fav_food': 'Seafood', 'fav_restaurant': 'Taj Krishna', 'total_amt': 'Rs. 12000', 'city': 'Hyderabad'}, 'suggestions': 'Oceanic Feast'}, {'user': {'name': 'Priya', 'fav_food': 'Italian', 'fav_restaurant': 'Serafina', 'total_amt': 'Rs. 9000', 'city': 'Chennai'}, 'suggestions': 'Ciao Bella'}]\n"
     ]
    }
   ],
   "source": [
    "print(final_output)"
   ]
  },
  {
   "cell_type": "code",
   "execution_count": 18,
   "id": "dc14d635-1194-4984-b5b4-46148e09ada7",
   "metadata": {},
   "outputs": [],
   "source": [
    "json_data=[]"
   ]
  },
  {
   "cell_type": "code",
   "execution_count": 19,
   "id": "71bbe27f-a443-4619-9ba2-5e4900d42e10",
   "metadata": {},
   "outputs": [],
   "source": [
    "for entry in final_output:\n",
    "    user_info = entry['user']\n",
    "    suggestions = entry['suggestions']\n",
    "    json_data.append({\n",
    "        'name': user_info['name'],\n",
    "        'fav_food': user_info['fav_food'],\n",
    "        'fav_restaurant': user_info['fav_restaurant'],\n",
    "        'total_amt': user_info['total_amt'],\n",
    "        'city': user_info['city'],\n",
    "        'suggestions': suggestions\n",
    "    })"
   ]
  },
  {
   "cell_type": "code",
   "execution_count": 20,
   "id": "c6ddf1e8-ccd5-4428-8bc3-43e81ca56d14",
   "metadata": {},
   "outputs": [
    {
     "name": "stdout",
     "output_type": "stream",
     "text": [
      "        name                           fav_food            fav_restaurant  \\\n",
      "0       Ravi                   Pizza and Burger                   LaPinoz   \n",
      "1     Sameer            Butter Chicken and Naan                     Zaika   \n",
      "2      Kiran                      Chole Bhature             Chandni Chowk   \n",
      "3       Maya                       Rajma Chawal          Biryani Paradise   \n",
      "4      Akash                        Thali meals           Saravana Bhavan   \n",
      "5       Neha                 Aloo Gobi and Roti        Ghar كي (Ki) Rasoi   \n",
      "6      Rohan                            Biryani          Paradise Biryani   \n",
      "7      Aisha                          Pav Bhaji                    Aadyaa   \n",
      "8        Dev                  South Indian food                   Sankalp   \n",
      "9       Mira                        Masala Dosa            Iyengar Bakery   \n",
      "10     Rahul                  Mutton Rogan Josh                   Karim's   \n",
      "11    Nikita                   Momos and Thukpa                 Doma Cafe   \n",
      "12    Aditya                  Chettinad Chicken  Chettinad Vasanta Bhavan   \n",
      "13  Priyanka                          Dahi Vada               local stall   \n",
      "14     Arjun                              Lassi                   Giani's   \n",
      "15    Shreya                        fusion dish          The Pizza Bakery   \n",
      "16    Kavita                     Gujarati Thali        Thakkar Bhojanalay   \n",
      "17     Sumit                               food                 Starbucks   \n",
      "18    Anjali               dosa with aloo palak               Mysore Cafe   \n",
      "19     Vikas       Rajma Masala with brown rice           Nature's Basket   \n",
      "20     Pooja            Chaat at Bengali Sweets            Bengali Sweets   \n",
      "21    Nikhil         Dal Makhani and Missi Roti       Amrik Sukhdev Dhaba   \n",
      "22     Sonia               Elish Machher Patudi              Oh! Calcutta   \n",
      "23    Manish                               food                   Jugaadu   \n",
      "24   Shivani                    Lamb Rogan Josh             Indian Accent   \n",
      "25  Abhishek                 European breakfast       Olive Bar & Kitchen   \n",
      "26      Riya  Quinoa Salad with grilled chicken           The Skinny Bowl   \n",
      "27      Yash                            Seafood               Taj Krishna   \n",
      "28     Priya                            Italian                  Serafina   \n",
      "\n",
      "      total_amt        city                   suggestions  \n",
      "0      Rs. 9000      Jaipur          PizzaBurger Junction  \n",
      "1      Rs. 5000       Delhi            Butter Naan Bistro  \n",
      "2      Rs. 2000       Delhi        Chole Bhature Junction  \n",
      "3      Rs. 3000   Bengaluru                Rajma Republic  \n",
      "4      Rs. 4000     Chennai               Thali Tharavadu  \n",
      "5      Rs. 6000      Mumbai            Aloo Gobi Junction  \n",
      "6      Rs. 4500   Hyderabad              Biryani Junction  \n",
      "7      Rs. 3500        Pune                          None  \n",
      "8      Rs. 2000     Chennai           Chettinad Spice Hub  \n",
      "9      Rs. 2500   Bengaluru                      Dosa Hut  \n",
      "10     Rs. 5000       Delhi                          None  \n",
      "11     Rs. 3000     Kolkata            Himalayan Delights  \n",
      "12     Rs. 4000      Mumbai         Chettinad Spice House  \n",
      "13     Rs. 2500       Delhi             Dahi Vada Delight  \n",
      "14     Rs. 3500  Chandigarh                 Lassi Delight  \n",
      "15     Rs. 4000        Pune                Flavors United  \n",
      "16     Rs. 3000   Ahmedabad  Gujarati Delight Thali House  \n",
      "17     Rs. 4500   Bengaluru                Culinary Haven  \n",
      "18     Rs. 2800      Mumbai                 Dosa Delights  \n",
      "19     Rs. 3000      Jaipur                 Spice Delight  \n",
      "20     Rs. 2500     Kolkata        Chaat O Bengali Mishti  \n",
      "21     Rs. 5000       Delhi               Daawat-e-Punjab  \n",
      "22     Rs. 4000   Hyderabad             Nizam's Peshawari  \n",
      "23  Rs. 500-700        Pune            Pune Spice Delight  \n",
      "24     Rs. 8000      Mumbai                 Spice Delight  \n",
      "25   Rs. 10,000       Delhi            Brunchin' in Delhi  \n",
      "26     Rs. 7000   Bengaluru                  Quinoa Bliss  \n",
      "27    Rs. 12000   Hyderabad                 Oceanic Feast  \n",
      "28     Rs. 9000     Chennai                    Ciao Bella  \n"
     ]
    }
   ],
   "source": [
    "df_user_info1 = pd.DataFrame(json_data)\n",
    "print(df_user_info1)"
   ]
  }
 ],
 "metadata": {
  "kernelspec": {
   "display_name": "Python 3 (ipykernel)",
   "language": "python",
   "name": "python3"
  },
  "language_info": {
   "codemirror_mode": {
    "name": "ipython",
    "version": 3
   },
   "file_extension": ".py",
   "mimetype": "text/x-python",
   "name": "python",
   "nbconvert_exporter": "python",
   "pygments_lexer": "ipython3",
   "version": "3.10.4"
  }
 },
 "nbformat": 4,
 "nbformat_minor": 5
}
